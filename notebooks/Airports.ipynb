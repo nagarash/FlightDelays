{
 "cells": [
  {
   "cell_type": "code",
   "execution_count": 4,
   "metadata": {},
   "outputs": [],
   "source": [
    "import plotly.plotly as py\n",
    "from flights_visualization import flights_visualization\n",
    "\n",
    "spark_path = 'C:/spark-2.4.0-bin-hadoop2.7'\n",
    "data_path  = 'C:/Users/bnsha_000/Desktop/Data Analysis/AirlineDelays/1_Data/byYear'\n",
    "\n",
    "df = spark.read.parquet(data_path)\n",
    "df.registerTempTable(\"Data\")\n",
    "\n",
    "airports_df = spark.sql('select distinct ORIGIN from Data')\n",
    "\n",
    "(airports_df\n",
    " .coalesce(1)\n",
    " .write.format(\"com.databricks.spark.csv\")\n",
    " .option(\"header\", \"true\")\n",
    " .save(\"airports.csv\"))"
   ]
  },
  {
   "cell_type": "code",
   "execution_count": null,
   "metadata": {},
   "outputs": [],
   "source": []
  }
 ],
 "metadata": {
  "kernelspec": {
   "display_name": "Python 3",
   "language": "python",
   "name": "python3"
  },
  "language_info": {
   "codemirror_mode": {
    "name": "ipython",
    "version": 3
   },
   "file_extension": ".py",
   "mimetype": "text/x-python",
   "name": "python",
   "nbconvert_exporter": "python",
   "pygments_lexer": "ipython3",
   "version": "3.7.3"
  }
 },
 "nbformat": 4,
 "nbformat_minor": 2
}
