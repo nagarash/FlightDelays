{
 "cells": [
  {
   "cell_type": "code",
   "execution_count": 1,
   "metadata": {},
   "outputs": [
    {
     "name": "stderr",
     "output_type": "stream",
     "text": [
      "C:\\Users\\bnsha_000\\Miniconda3\\envs\\ntwx\\lib\\site-packages\\IPython\\core\\display.py:689: UserWarning:\n",
      "\n",
      "Consider using IPython.display.IFrame instead\n",
      "\n"
     ]
    },
    {
     "data": {
      "text/html": [
       "<iframe id=\"igraph\" scrolling=\"no\" style=\"border:none;\" seamless=\"seamless\" src=\"https://plot.ly/~sharath84/4.embed\" height=\"525px\" width=\"100%\"></iframe>"
      ],
      "text/plain": [
       "<chart_studio.tools.PlotlyDisplay object>"
      ]
     },
     "execution_count": 1,
     "metadata": {},
     "output_type": "execute_result"
    }
   ],
   "source": [
    "import plotly.plotly as py\n",
    "from flights_visualization import flights_visualization\n",
    "\n",
    "spark_path = 'C:/spark-2.4.0-bin-hadoop2.7'\n",
    "data_path  = 'C:/Users/bnsha_000/Desktop/Data Analysis/AirlineDelays/1_Data/YEAR=2018/'\n",
    "airports_file = 'C:/Users/bnsha_000/Desktop/Data Analysis/AirlineDelays/1_Data/airports.dat'\n",
    "\n",
    "flights_obj = flights_visualization(data_path)\n",
    "\n",
    "df_count = flights_obj.carrier_flights_count(spark,airports_file,carrier_name=\"DL\",columns=['OP_UNIQUE_CARRIER','ORIGIN','DEST'])\n",
    "fig = flights_obj.plot_flight_density(carrier_name = 'Delta Airlines',carrier_df = df_count)\n",
    "py.iplot(fig, filename='networkx')"
   ]
  },
  {
   "cell_type": "code",
   "execution_count": 3,
   "metadata": {},
   "outputs": [
    {
     "name": "stderr",
     "output_type": "stream",
     "text": [
      "C:\\Users\\bnsha_000\\Miniconda3\\envs\\ntwx\\lib\\site-packages\\IPython\\core\\display.py:689: UserWarning:\n",
      "\n",
      "Consider using IPython.display.IFrame instead\n",
      "\n"
     ]
    },
    {
     "data": {
      "text/html": [
       "<iframe id=\"igraph\" scrolling=\"no\" style=\"border:none;\" seamless=\"seamless\" src=\"https://plot.ly/~sharath84/6.embed\" height=\"525px\" width=\"100%\"></iframe>"
      ],
      "text/plain": [
       "<chart_studio.tools.PlotlyDisplay object>"
      ]
     },
     "execution_count": 3,
     "metadata": {},
     "output_type": "execute_result"
    }
   ],
   "source": [
    "departure_df = df_count.groupby(['ORIGIN','DEP_LAT','DEP_LON'])['Flights'].sum().reset_index().sort_values(by='Flights')\n",
    "fig = flights_obj.plot_flight_departures(carrier_name = 'Delta Airlines',departure_df = departure_df)\n",
    "py.iplot(fig, filename='DL_departures')"
   ]
  },
  {
   "cell_type": "code",
   "execution_count": null,
   "metadata": {},
   "outputs": [],
   "source": []
  }
 ],
 "metadata": {
  "kernelspec": {
   "display_name": "Python 3",
   "language": "python",
   "name": "python3"
  },
  "language_info": {
   "codemirror_mode": {
    "name": "ipython",
    "version": 3
   },
   "file_extension": ".py",
   "mimetype": "text/x-python",
   "name": "python",
   "nbconvert_exporter": "python",
   "pygments_lexer": "ipython3",
   "version": "3.7.3"
  }
 },
 "nbformat": 4,
 "nbformat_minor": 2
}
